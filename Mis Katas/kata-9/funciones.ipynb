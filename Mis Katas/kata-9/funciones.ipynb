{
 "cells": [
  {
   "cell_type": "code",
   "execution_count": 11,
   "metadata": {},
   "outputs": [
    {
     "name": "stdout",
     "output_type": "stream",
     "text": [
      "Repoerte de combustible en tanques:\n",
      "Tanque 1: 10.\n",
      "Tanque 2: 7.\n",
      "Tanque 3: 13.\n",
      "Promedio de combustible: 10.0.\n",
      "\n"
     ]
    }
   ],
   "source": [
    "tanque1, tanque2, tanque3 = [10, 7, 13]\n",
    "\n",
    "promedio = lambda tanques: sum(tanques) / len(tanques)\n",
    "\n",
    "reporte = lambda tanque1, tanque2, tanque3: \"\"\"Repoerte de combustible en tanques:\n",
    "Tanque 1: %s.\n",
    "Tanque 2: %s.\n",
    "Tanque 3: %s.\n",
    "Promedio de combustible: %s.\n",
    "\"\"\" % (tanque1, tanque2, tanque3, promedio([tanque1, tanque2, tanque3]))\n",
    "\n",
    "print(reporte(tanque1, tanque2, tanque3))"
   ]
  },
  {
   "cell_type": "code",
   "execution_count": 17,
   "metadata": {},
   "outputs": [
    {
     "name": "stdout",
     "output_type": "stream",
     "text": [
      "Informe de mision:\n",
      "Destino: Moon.\n",
      "Tiempo de vuelo: 65 minuitos\n",
      "Combustible total: 500000 galones\n",
      "\n"
     ]
    }
   ],
   "source": [
    "informe = lambda hora_prelanzamiento, tiempo_vuelo, destino, tanque_externo, tanque_interno: \"\"\"Informe de mision:\n",
    "Destino: %s.\n",
    "Tiempo de vuelo: %d minuitos\n",
    "Combustible total: %d galones\n",
    "\"\"\" % (destino, (hora_prelanzamiento + tiempo_vuelo), (tanque_externo + tanque_interno))\n",
    "\n",
    "print(informe(14, 51, \"Moon\", 200000, 300000))"
   ]
  },
  {
   "cell_type": "code",
   "execution_count": 34,
   "metadata": {},
   "outputs": [
    {
     "name": "stdout",
     "output_type": "stream",
     "text": [
      "Informe de mision:\n",
      "Destino: Moon.\n",
      "Tiempo de vuelo: 76 minuitos\n",
      "Combustible total: 500000 galones\n",
      "\t main -> 300000 ganlones \n",
      "\t external -> 200000 ganlones \n",
      "\n",
      "\n"
     ]
    }
   ],
   "source": [
    "import functools\n",
    "\n",
    "informe = lambda destino, *minutos, **tanques: \"\"\"Informe de mision:\n",
    "Destino: %s.\n",
    "Tiempo de vuelo: %d minuitos\n",
    "Combustible total: %d galones\n",
    "%s\n",
    "\"\"\" % (\n",
    "    destino,\n",
    "    sum(minutos),\n",
    "    sum(tanques.values()),\n",
    "    functools.reduce(lambda x, y: x + y, [(\"\\t %s -> %s ganlones \\n\" % (nombre, combustible)) for nombre, combustible in tanques.items()])\n",
    "    )\n",
    "\n",
    "print(informe(\"Moon\", 10, 15, 51, main=300000, external=200000))"
   ]
  }
 ],
 "metadata": {
  "interpreter": {
   "hash": "723cea29462d40f72f848ac3a8298bff711ee7c7b72aeb79b29c972acee3a1d5"
  },
  "kernelspec": {
   "display_name": "Python 3.10.2 64-bit (windows store)",
   "language": "python",
   "name": "python3"
  },
  "language_info": {
   "codemirror_mode": {
    "name": "ipython",
    "version": 3
   },
   "file_extension": ".py",
   "mimetype": "text/x-python",
   "name": "python",
   "nbconvert_exporter": "python",
   "pygments_lexer": "ipython3",
   "version": "3.10.2"
  },
  "orig_nbformat": 4
 },
 "nbformat": 4,
 "nbformat_minor": 2
}
