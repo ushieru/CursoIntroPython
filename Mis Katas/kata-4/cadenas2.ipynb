{
 "cells": [
  {
   "cell_type": "code",
   "execution_count": 8,
   "metadata": {},
   "outputs": [],
   "source": [
    "# Datos con los que vas a trabajar\n",
    "name = \"Moon\"\n",
    "gravity = 0.00162 # in kms\n",
    "planet = \"Earth\""
   ]
  },
  {
   "cell_type": "markdown",
   "metadata": {},
   "source": [
    "Primero, crea un título para el texto. Debido a que este texto trata sobre la gravedad en la Tierra y la Luna, úsalo para crear un título significativo. Utiliza las variables en lugar de escribir."
   ]
  },
  {
   "cell_type": "code",
   "execution_count": 9,
   "metadata": {},
   "outputs": [],
   "source": [
    "titulo_template = \"%s. Planeta: %s\""
   ]
  },
  {
   "cell_type": "markdown",
   "metadata": {},
   "source": [
    "Ahora crea una plantilla de cadena multilínea para contener el resto de la información. En lugar de usar kilómetros, debes convertir la distancia a metros multiplicando por 1,000."
   ]
  },
  {
   "cell_type": "code",
   "execution_count": 10,
   "metadata": {},
   "outputs": [
    {
     "name": "stdout",
     "output_type": "stream",
     "text": [
      "\n",
      "Moon. Planeta: Earth\n",
      "-------------------------------------------------- \n",
      "Nombre del planeta: Earth \n",
      "Gravedad en Moon: 1.620000 m/s2 \n",
      "\n"
     ]
    }
   ],
   "source": [
    "def from_km_to_m(km: float) -> float:\n",
    "    return km * 1_000\n",
    "\n",
    "plantilla = \"\"\"\n",
    "%s\n",
    "-------------------------------------------------- \n",
    "Nombre del planeta: %s \n",
    "Gravedad en %s: %f m/s2 \n",
    "\"\"\"\n",
    "\n",
    "print(plantilla % (titulo_template % (name, planet), planet, name, from_km_to_m(gravity)))"
   ]
  },
  {
   "cell_type": "code",
   "execution_count": 11,
   "metadata": {},
   "outputs": [
    {
     "name": "stdout",
     "output_type": "stream",
     "text": [
      "\n",
      "Ganímedes. Planeta: Marte\n",
      "-------------------------------------------------- \n",
      "Nombre del planeta: Marte \n",
      "Gravedad en Ganímedes: 1.430000 m/s2 \n",
      "\n"
     ]
    }
   ],
   "source": [
    "planet = 'Marte'\n",
    "gravity  = 0.00143\n",
    "name = 'Ganímedes'\n",
    "\n",
    "print(plantilla % (titulo_template % (name, planet), planet, name, from_km_to_m(gravity)))"
   ]
  }
 ],
 "metadata": {
  "interpreter": {
   "hash": "723cea29462d40f72f848ac3a8298bff711ee7c7b72aeb79b29c972acee3a1d5"
  },
  "kernelspec": {
   "display_name": "Python 3.10.2 64-bit (windows store)",
   "language": "python",
   "name": "python3"
  },
  "language_info": {
   "codemirror_mode": {
    "name": "ipython",
    "version": 3
   },
   "file_extension": ".py",
   "mimetype": "text/x-python",
   "name": "python",
   "nbconvert_exporter": "python",
   "pygments_lexer": "ipython3",
   "version": "3.10.2"
  },
  "orig_nbformat": 4
 },
 "nbformat": 4,
 "nbformat_minor": 2
}
