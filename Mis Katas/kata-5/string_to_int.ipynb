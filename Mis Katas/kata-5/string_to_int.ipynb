{
 "cells": [
  {
   "cell_type": "markdown",
   "metadata": {},
   "source": [
    "Para crear nuestra aplicación, queremos leer la distancia del sol para dos planetas, y luego mostrar la distancia entre los planetas. Haremos esto usando input para leer los valores, int para convertir a entero y luego abs para convertir el resultado en su valor absoluto."
   ]
  },
  {
   "cell_type": "code",
   "execution_count": 3,
   "metadata": {},
   "outputs": [],
   "source": [
    "planeta_uno = int(input('Introduzca la distancia del sol para el primer planeta en KM'))\n",
    "planeta_dos = int(input('Introduzca la distancia desde el sol para el segundo planeta en KM'))"
   ]
  },
  {
   "cell_type": "code",
   "execution_count": 4,
   "metadata": {},
   "outputs": [
    {
     "name": "stdout",
     "output_type": "stream",
     "text": [
      "50300000\n",
      "31236300.0\n"
     ]
    }
   ],
   "source": [
    "distance_km = planeta_dos - planeta_uno\n",
    "print(distance_km)\n",
    "\n",
    "distance_millas = distance_km * 0.621\n",
    "print(abs(distance_millas))"
   ]
  },
  {
   "cell_type": "markdown",
   "metadata": {},
   "source": [
    "# Distancias de prueba\n",
    "\n",
    "| Planeta | Distancia al sol |\n",
    "|---------|------------------|\n",
    "| Mercurio|     57900000     |\n",
    "|  Venus  |    108200000     |\n",
    "|  Tierra |    149600000     |\n",
    "|  Marte  |    227900000     |\n",
    "| Júpiter |    778600000     |\n",
    "| Saturno |    1433500000    |\n",
    "|  Urano  |    2872500000    |\n",
    "| Neptuno |    4495100000    |"
   ]
  }
 ],
 "metadata": {
  "interpreter": {
   "hash": "723cea29462d40f72f848ac3a8298bff711ee7c7b72aeb79b29c972acee3a1d5"
  },
  "kernelspec": {
   "display_name": "Python 3.10.2 64-bit (windows store)",
   "language": "python",
   "name": "python3"
  },
  "language_info": {
   "codemirror_mode": {
    "name": "ipython",
    "version": 3
   },
   "file_extension": ".py",
   "mimetype": "text/x-python",
   "name": "python",
   "nbconvert_exporter": "python",
   "pygments_lexer": "ipython3",
   "version": "3.10.2"
  },
  "orig_nbformat": 4
 },
 "nbformat": 4,
 "nbformat_minor": 2
}
