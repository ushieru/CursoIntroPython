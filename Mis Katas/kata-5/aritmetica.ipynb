{
 "cells": [
  {
   "cell_type": "markdown",
   "metadata": {},
   "source": [
    "- Crear variables para almacenar las dos distancias\n",
    "- ¡Asegúrate de quitar las comas!"
   ]
  },
  {
   "cell_type": "code",
   "execution_count": 1,
   "metadata": {},
   "outputs": [],
   "source": [
    "first_planet = 149597870\n",
    "second_planet = 778547200"
   ]
  },
  {
   "cell_type": "code",
   "execution_count": 3,
   "metadata": {},
   "outputs": [
    {
     "name": "stdout",
     "output_type": "stream",
     "text": [
      "Distancia en km: 628949330\n",
      "Distancia en millas: 390577533.93\n"
     ]
    }
   ],
   "source": [
    "distance_km = second_planet - first_planet\n",
    "print(\"Distancia en km: %s\" % distance_km)\n",
    "\n",
    "distance_millas = distance_km * 0.621\n",
    "print(\"Distancia en millas: %s\" % distance_millas)"
   ]
  }
 ],
 "metadata": {
  "interpreter": {
   "hash": "723cea29462d40f72f848ac3a8298bff711ee7c7b72aeb79b29c972acee3a1d5"
  },
  "kernelspec": {
   "display_name": "Python 3.10.2 64-bit (windows store)",
   "language": "python",
   "name": "python3"
  },
  "language_info": {
   "codemirror_mode": {
    "name": "ipython",
    "version": 3
   },
   "file_extension": ".py",
   "mimetype": "text/x-python",
   "name": "python",
   "nbconvert_exporter": "python",
   "pygments_lexer": "ipython3",
   "version": "3.10.2"
  },
  "orig_nbformat": 4
 },
 "nbformat": 4,
 "nbformat_minor": 2
}
