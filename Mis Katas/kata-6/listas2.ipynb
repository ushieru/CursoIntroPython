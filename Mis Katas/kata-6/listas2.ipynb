{
 "cells": [
  {
   "cell_type": "code",
   "execution_count": 18,
   "metadata": {},
   "outputs": [
    {
     "name": "stdout",
     "output_type": "stream",
     "text": [
      "Los planetas ['Mercury', 'Venus', 'Earth', 'Mars', 'Jupiter', 'Saturn'] son mas cercanos al sol\n",
      "No hay planeta mas lejano al sol\n"
     ]
    }
   ],
   "source": [
    "planets = ['Mercury', 'Venus', 'Earth', 'Mars', 'Jupiter', 'Saturn', 'Neptune']\n",
    "\n",
    "planet = input('Ingrese el numbre de un planeta empezando por mayuscula')\n",
    "\n",
    "pivot = planets.index(planet)\n",
    "\n",
    "print('Los planetas %s son mas cercanos al sol' % planets[0:pivot] if pivot > 0 else 'No hay planeta mas cercano al sol')\n",
    "print('Los planetas %s son mas lejanos al sol' % planets[(pivot+1)::] if pivot < (len(planets)-1) else 'No hay planeta mas lejano al sol')"
   ]
  }
 ],
 "metadata": {
  "interpreter": {
   "hash": "723cea29462d40f72f848ac3a8298bff711ee7c7b72aeb79b29c972acee3a1d5"
  },
  "kernelspec": {
   "display_name": "Python 3.10.2 64-bit (windows store)",
   "language": "python",
   "name": "python3"
  },
  "language_info": {
   "codemirror_mode": {
    "name": "ipython",
    "version": 3
   },
   "file_extension": ".py",
   "mimetype": "text/x-python",
   "name": "python",
   "nbconvert_exporter": "python",
   "pygments_lexer": "ipython3",
   "version": "3.10.2"
  },
  "orig_nbformat": 4
 },
 "nbformat": 4,
 "nbformat_minor": 2
}
